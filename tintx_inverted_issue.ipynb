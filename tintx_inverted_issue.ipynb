{
 "cells": [
  {
   "cell_type": "code",
   "execution_count": 1,
   "id": "23842f5e-8bed-4bee-a583-01cec59f6173",
   "metadata": {
    "tags": []
   },
   "outputs": [],
   "source": [
    "import xarray as xr\n",
    "import pandas as pd\n",
    "import numpy as np\n",
    "import matplotlib.pyplot as plt\n",
    "import matplotlib.animation as manim\n",
    "from tintx import RunDirectory, config"
   ]
  },
  {
   "attachments": {},
   "cell_type": "markdown",
   "id": "a5597fd5-485d-473f-b8a0-9f57c907c924",
   "metadata": {},
   "source": [
    "**Create some synthetic data**\n",
    "\n",
    "We'll use a Gaussian that's translated at a constant speed"
   ]
  },
  {
   "cell_type": "code",
   "execution_count": 2,
   "id": "b5a998a3-453b-45a7-a646-67e9415219ac",
   "metadata": {
    "tags": []
   },
   "outputs": [],
   "source": [
    "t = np.arange(0, 100)\n",
    "x = np.linspace(-1, 1)\n",
    "y = np.linspace(-1, 1)\n",
    "\n",
    "[T, X, Y] = np.meshgrid(t, x, y, indexing='ij')\n",
    "\n",
    "Z = np.exp(-(X-(0.02*T)+1)**2 * 10) * np.exp(-Y**2*10)"
   ]
  },
  {
   "attachments": {},
   "cell_type": "markdown",
   "id": "a01c0c22-8bea-48b1-af33-686c32095ea2",
   "metadata": {},
   "source": [
    "**Convert to a DataArray object**"
   ]
  },
  {
   "cell_type": "code",
   "execution_count": 3,
   "id": "f16ca899-ddb4-490e-9414-81781aee4414",
   "metadata": {
    "tags": []
   },
   "outputs": [],
   "source": [
    "times = pd.date_range(start='2020-01-01', periods=100, freq='1H')\n",
    "Z_xr = xr.DataArray(Z, coords={'time': times, 'lon': x, 'lat': y})"
   ]
  },
  {
   "attachments": {},
   "cell_type": "markdown",
   "id": "bf22a06c-314a-4b0d-94a9-657201635da2",
   "metadata": {},
   "source": [
    "**Run the tracking algorithm**"
   ]
  },
  {
   "cell_type": "code",
   "execution_count": 4,
   "id": "a2562437-7754-43f4-b0c9-666bf6634085",
   "metadata": {
    "tags": []
   },
   "outputs": [
    {
     "data": {
      "application/vnd.jupyter.widget-view+json": {
       "model_id": "9e99fd203f5640a3a7fae68237913587",
       "version_major": 2,
       "version_minor": 0
      },
      "text/plain": [
       "Tracking:   0%|          | 0/99 [00:00<?, ?it/s]"
      ]
     },
     "metadata": {},
     "output_type": "display_data"
    },
    {
     "data": {
      "text/html": [
       "<div>\n",
       "<style scoped>\n",
       "    .dataframe tbody tr th:only-of-type {\n",
       "        vertical-align: middle;\n",
       "    }\n",
       "\n",
       "    .dataframe tbody tr th {\n",
       "        vertical-align: top;\n",
       "    }\n",
       "\n",
       "    .dataframe thead th {\n",
       "        text-align: right;\n",
       "    }\n",
       "</style>\n",
       "<table border=\"1\" class=\"dataframe\">\n",
       "  <thead>\n",
       "    <tr style=\"text-align: right;\">\n",
       "      <th></th>\n",
       "      <th></th>\n",
       "      <th>time</th>\n",
       "      <th>grid_x</th>\n",
       "      <th>grid_y</th>\n",
       "      <th>lon</th>\n",
       "      <th>lat</th>\n",
       "      <th>area</th>\n",
       "      <th>max</th>\n",
       "      <th>mean</th>\n",
       "      <th>isolated</th>\n",
       "      <th>geometry</th>\n",
       "    </tr>\n",
       "    <tr>\n",
       "      <th>scan</th>\n",
       "      <th>uid</th>\n",
       "      <th></th>\n",
       "      <th></th>\n",
       "      <th></th>\n",
       "      <th></th>\n",
       "      <th></th>\n",
       "      <th></th>\n",
       "      <th></th>\n",
       "      <th></th>\n",
       "      <th></th>\n",
       "      <th></th>\n",
       "    </tr>\n",
       "  </thead>\n",
       "  <tbody>\n",
       "    <tr>\n",
       "      <th>0</th>\n",
       "      <th>0</th>\n",
       "      <td>2020-01-01 00:00:00</td>\n",
       "      <td>24.5</td>\n",
       "      <td>2.514</td>\n",
       "      <td>-0.0204</td>\n",
       "      <td>-0.8776</td>\n",
       "      <td>70</td>\n",
       "      <td>0.995844</td>\n",
       "      <td>0.735281</td>\n",
       "      <td>False</td>\n",
       "      <td>POLYGON ((-0.22449 -1.00000, -0.22449 -0.83673...</td>\n",
       "    </tr>\n",
       "    <tr>\n",
       "      <th>1</th>\n",
       "      <th>0</th>\n",
       "      <td>2020-01-01 01:00:00</td>\n",
       "      <td>24.5</td>\n",
       "      <td>2.676</td>\n",
       "      <td>-0.0204</td>\n",
       "      <td>-0.8776</td>\n",
       "      <td>74</td>\n",
       "      <td>0.991868</td>\n",
       "      <td>0.747985</td>\n",
       "      <td>False</td>\n",
       "      <td>POLYGON ((-0.22449 -1.00000, -0.22449 -0.83673...</td>\n",
       "    </tr>\n",
       "    <tr>\n",
       "      <th>2</th>\n",
       "      <th>0</th>\n",
       "      <td>2020-01-01 02:00:00</td>\n",
       "      <td>24.5</td>\n",
       "      <td>3.000</td>\n",
       "      <td>-0.0204</td>\n",
       "      <td>-0.8776</td>\n",
       "      <td>82</td>\n",
       "      <td>0.995837</td>\n",
       "      <td>0.746571</td>\n",
       "      <td>False</td>\n",
       "      <td>POLYGON ((-0.22449 -1.00000, -0.22449 -0.79592...</td>\n",
       "    </tr>\n",
       "    <tr>\n",
       "      <th>3</th>\n",
       "      <th>0</th>\n",
       "      <td>2020-01-01 03:00:00</td>\n",
       "      <td>24.5</td>\n",
       "      <td>3.163</td>\n",
       "      <td>-0.0204</td>\n",
       "      <td>-0.8776</td>\n",
       "      <td>86</td>\n",
       "      <td>0.992186</td>\n",
       "      <td>0.754781</td>\n",
       "      <td>False</td>\n",
       "      <td>POLYGON ((-0.22449 -1.00000, -0.22449 -0.79592...</td>\n",
       "    </tr>\n",
       "    <tr>\n",
       "      <th>4</th>\n",
       "      <th>0</th>\n",
       "      <td>2020-01-01 04:00:00</td>\n",
       "      <td>24.5</td>\n",
       "      <td>3.489</td>\n",
       "      <td>-0.0204</td>\n",
       "      <td>-0.8776</td>\n",
       "      <td>94</td>\n",
       "      <td>0.995817</td>\n",
       "      <td>0.750140</td>\n",
       "      <td>False</td>\n",
       "      <td>POLYGON ((-0.22449 -1.00000, -0.22449 -0.75510...</td>\n",
       "    </tr>\n",
       "    <tr>\n",
       "      <th>...</th>\n",
       "      <th>...</th>\n",
       "      <td>...</td>\n",
       "      <td>...</td>\n",
       "      <td>...</td>\n",
       "      <td>...</td>\n",
       "      <td>...</td>\n",
       "      <td>...</td>\n",
       "      <td>...</td>\n",
       "      <td>...</td>\n",
       "      <td>...</td>\n",
       "      <td>...</td>\n",
       "    </tr>\n",
       "    <tr>\n",
       "      <th>95</th>\n",
       "      <th>0</th>\n",
       "      <td>2020-01-04 23:00:00</td>\n",
       "      <td>24.5</td>\n",
       "      <td>45.347</td>\n",
       "      <td>-0.0204</td>\n",
       "      <td>0.8367</td>\n",
       "      <td>98</td>\n",
       "      <td>0.992490</td>\n",
       "      <td>0.753908</td>\n",
       "      <td>False</td>\n",
       "      <td>POLYGON ((-1.00000 -1.00000, -1.00000 1.04082,...</td>\n",
       "    </tr>\n",
       "    <tr>\n",
       "      <th>96</th>\n",
       "      <th>0</th>\n",
       "      <td>2020-01-05 00:00:00</td>\n",
       "      <td>24.5</td>\n",
       "      <td>45.511</td>\n",
       "      <td>-0.0204</td>\n",
       "      <td>0.8776</td>\n",
       "      <td>94</td>\n",
       "      <td>0.995817</td>\n",
       "      <td>0.750140</td>\n",
       "      <td>False</td>\n",
       "      <td>POLYGON ((-1.00000 -1.00000, -1.00000 1.04082,...</td>\n",
       "    </tr>\n",
       "    <tr>\n",
       "      <th>97</th>\n",
       "      <th>0</th>\n",
       "      <td>2020-01-05 01:00:00</td>\n",
       "      <td>24.5</td>\n",
       "      <td>45.837</td>\n",
       "      <td>-0.0204</td>\n",
       "      <td>0.8776</td>\n",
       "      <td>86</td>\n",
       "      <td>0.992186</td>\n",
       "      <td>0.754781</td>\n",
       "      <td>False</td>\n",
       "      <td>POLYGON ((-1.00000 -1.00000, -1.00000 1.04082,...</td>\n",
       "    </tr>\n",
       "    <tr>\n",
       "      <th>98</th>\n",
       "      <th>0</th>\n",
       "      <td>2020-01-05 02:00:00</td>\n",
       "      <td>24.5</td>\n",
       "      <td>46.000</td>\n",
       "      <td>-0.0204</td>\n",
       "      <td>0.8776</td>\n",
       "      <td>82</td>\n",
       "      <td>0.995837</td>\n",
       "      <td>0.746571</td>\n",
       "      <td>False</td>\n",
       "      <td>POLYGON ((-1.00000 -1.00000, -1.00000 1.04082,...</td>\n",
       "    </tr>\n",
       "    <tr>\n",
       "      <th>99</th>\n",
       "      <th>0</th>\n",
       "      <td>2020-01-05 03:00:00</td>\n",
       "      <td>24.5</td>\n",
       "      <td>46.324</td>\n",
       "      <td>-0.0204</td>\n",
       "      <td>0.8776</td>\n",
       "      <td>74</td>\n",
       "      <td>0.991868</td>\n",
       "      <td>0.747985</td>\n",
       "      <td>False</td>\n",
       "      <td>POLYGON ((-1.00000 -1.00000, -1.00000 1.04082,...</td>\n",
       "    </tr>\n",
       "  </tbody>\n",
       "</table>\n",
       "<p>100 rows × 10 columns</p>\n",
       "</div>"
      ],
      "text/plain": [
       "                         time  grid_x  grid_y     lon     lat  area       max  \\\n",
       "scan uid                                                                        \n",
       "0    0    2020-01-01 00:00:00    24.5   2.514 -0.0204 -0.8776    70  0.995844   \n",
       "1    0    2020-01-01 01:00:00    24.5   2.676 -0.0204 -0.8776    74  0.991868   \n",
       "2    0    2020-01-01 02:00:00    24.5   3.000 -0.0204 -0.8776    82  0.995837   \n",
       "3    0    2020-01-01 03:00:00    24.5   3.163 -0.0204 -0.8776    86  0.992186   \n",
       "4    0    2020-01-01 04:00:00    24.5   3.489 -0.0204 -0.8776    94  0.995817   \n",
       "...                       ...     ...     ...     ...     ...   ...       ...   \n",
       "95   0    2020-01-04 23:00:00    24.5  45.347 -0.0204  0.8367    98  0.992490   \n",
       "96   0    2020-01-05 00:00:00    24.5  45.511 -0.0204  0.8776    94  0.995817   \n",
       "97   0    2020-01-05 01:00:00    24.5  45.837 -0.0204  0.8776    86  0.992186   \n",
       "98   0    2020-01-05 02:00:00    24.5  46.000 -0.0204  0.8776    82  0.995837   \n",
       "99   0    2020-01-05 03:00:00    24.5  46.324 -0.0204  0.8776    74  0.991868   \n",
       "\n",
       "              mean  isolated  \\\n",
       "scan uid                       \n",
       "0    0    0.735281     False   \n",
       "1    0    0.747985     False   \n",
       "2    0    0.746571     False   \n",
       "3    0    0.754781     False   \n",
       "4    0    0.750140     False   \n",
       "...            ...       ...   \n",
       "95   0    0.753908     False   \n",
       "96   0    0.750140     False   \n",
       "97   0    0.754781     False   \n",
       "98   0    0.746571     False   \n",
       "99   0    0.747985     False   \n",
       "\n",
       "                                                   geometry  \n",
       "scan uid                                                     \n",
       "0    0    POLYGON ((-0.22449 -1.00000, -0.22449 -0.83673...  \n",
       "1    0    POLYGON ((-0.22449 -1.00000, -0.22449 -0.83673...  \n",
       "2    0    POLYGON ((-0.22449 -1.00000, -0.22449 -0.79592...  \n",
       "3    0    POLYGON ((-0.22449 -1.00000, -0.22449 -0.79592...  \n",
       "4    0    POLYGON ((-0.22449 -1.00000, -0.22449 -0.75510...  \n",
       "...                                                     ...  \n",
       "95   0    POLYGON ((-1.00000 -1.00000, -1.00000 1.04082,...  \n",
       "96   0    POLYGON ((-1.00000 -1.00000, -1.00000 1.04082,...  \n",
       "97   0    POLYGON ((-1.00000 -1.00000, -1.00000 1.04082,...  \n",
       "98   0    POLYGON ((-1.00000 -1.00000, -1.00000 1.04082,...  \n",
       "99   0    POLYGON ((-1.00000 -1.00000, -1.00000 1.04082,...  \n",
       "\n",
       "[100 rows x 10 columns]"
      ]
     },
     "execution_count": 4,
     "metadata": {},
     "output_type": "execute_result"
    }
   ],
   "source": [
    "run_dir = RunDirectory(Z_xr, 'mask')\n",
    "num_cells = run_dir.get_tracks(min_size=10, field_thresh=0.5)\n",
    "run_dir.tracks"
   ]
  },
  {
   "attachments": {},
   "cell_type": "markdown",
   "id": "f768dd37-da40-40b9-a6f7-8d0e06220c3b",
   "metadata": {},
   "source": [
    "**Create an animation of the tracking**\n",
    "\n",
    "The object centroid is the dot, and the polygon is outlined & shaded."
   ]
  },
  {
   "cell_type": "code",
   "execution_count": 5,
   "id": "f0416377-7179-4558-b4e7-039907460b01",
   "metadata": {
    "tags": []
   },
   "outputs": [
    {
     "name": "stdout",
     "output_type": "stream",
     "text": [
      "CPU times: user 13.4 s, sys: 299 ms, total: 13.7 s\n",
      "Wall time: 14.5 s\n"
     ]
    },
    {
     "data": {
      "image/png": "[encoded data removed]",
      "text/plain": [
       "<Figure size 640x480 with 1 Axes>"
      ]
     },
     "metadata": {},
     "output_type": "display_data"
    }
   ],
   "source": [
    "%%time\n",
    "\n",
    "fig = plt.figure()\n",
    "\n",
    "time_format = str(Z_xr.isel(time=0).time.values)[:16]\n",
    "\n",
    "[lons, lats] = np.meshgrid(Z_xr['lon'], Z_xr['lat'])\n",
    "\n",
    "plt.pcolormesh(lons, lats, Z_xr.isel(time=0), vmin=-1, vmax=1, cmap='RdBu', alpha=0.5)\n",
    "plt.title(f'{time_format}')\n",
    "plt.xlim((-1, 1))\n",
    "plt.ylim((-1, 1))\n",
    "\n",
    "def plot_geom(run_dir, geom_t, t):\n",
    "    for i, geom_x in enumerate(geom_t):\n",
    "        x, y = geom_x.exterior.xy\n",
    "        x, y = np.array(x), np.array(y)\n",
    "        uid = int(geom_t.index[i])\n",
    "        ln = plt.plot(x, y, color='k')\n",
    "        plt.fill(x, y, alpha=0.25, color='k')\n",
    "        lon, lat = run_dir.tracks.lon.xs(t+1, level='scan')[i], run_dir.tracks.lat.xs(t+1, level='scan')[i]\n",
    "        plt.scatter(lon, lat, color='k')\n",
    "        plt.text(lon, lat, uid)\n",
    "\n",
    "        \n",
    "geom_t = run_dir.tracks.geometry.xs(1, level='scan')\n",
    "plot_geom(run_dir, geom_t, 0)\n",
    "\n",
    "def animate(t):\n",
    "    #print(t)\n",
    "    \n",
    "    plt.clf()\n",
    "    plt.pcolormesh(lons, lats, Z_xr.isel(time=t), vmin=-1, vmax=1, cmap='RdBu', alpha=0.5)\n",
    "    \n",
    "    geom_t = run_dir.tracks.geometry.xs(t+1, level='scan')\n",
    "    plot_geom(run_dir, geom_t, t)\n",
    "    time_format = str(Z_xr.isel(time=t).time.values)[:16]\n",
    "    plt.title(f'{time_format}')\n",
    "    plt.xlim((-1, 1))\n",
    "    plt.ylim((-1, 1))\n",
    "\n",
    "    \n",
    "outpath = f'test_tintx_animation.mp4'\n",
    "\n",
    "anim = manim.FuncAnimation(fig, animate, frames=run_dir.time.size -1, interval=50)\n",
    "anim.save(outpath, dpi=200, bitrate=-1, fps=10)"
   ]
  },
  {
   "attachments": {},
   "cell_type": "markdown",
   "id": "c8f5fe2a-6e52-4b1d-baa6-eb64c8d3c518",
   "metadata": {},
   "source": [
    "Below we can see that the issue occurs from time 93 to time 94:"
   ]
  },
  {
   "cell_type": "code",
   "execution_count": 6,
   "id": "501a31c4-fab2-46a0-bca5-6ea09d59867f",
   "metadata": {
    "tags": []
   },
   "outputs": [
    {
     "data": {
      "text/plain": [
       "uid\n",
       "0    POLYGON ((-0.10204 0.63265, 0.14286 0.63265, 0...\n",
       "Name: geometry, dtype: geometry"
      ]
     },
     "execution_count": 6,
     "metadata": {},
     "output_type": "execute_result"
    }
   ],
   "source": [
    "run_dir.tracks['geometry'][93]"
   ]
  },
  {
   "cell_type": "code",
   "execution_count": 7,
   "id": "34edfb13-9a71-4cb4-860d-a92c03d8160f",
   "metadata": {
    "tags": []
   },
   "outputs": [
    {
     "data": {
      "text/plain": [
       "<Axes: >"
      ]
     },
     "execution_count": 7,
     "metadata": {},
     "output_type": "execute_result"
    },
    {
     "data": {
      "image/png": "[encoded data removed]",
      "text/plain": [
       "<Figure size 640x480 with 1 Axes>"
      ]
     },
     "metadata": {},
     "output_type": "display_data"
    }
   ],
   "source": [
    "run_dir.tracks['geometry'][93].plot()"
   ]
  },
  {
   "cell_type": "code",
   "execution_count": 8,
   "id": "ed8702ed-8bec-46b2-ad39-7dd14aaa3ab6",
   "metadata": {
    "tags": []
   },
   "outputs": [
    {
     "data": {
      "text/plain": [
       "uid\n",
       "0    POLYGON ((-1.00000 -1.00000, -1.00000 1.04082,...\n",
       "Name: geometry, dtype: geometry"
      ]
     },
     "execution_count": 8,
     "metadata": {},
     "output_type": "execute_result"
    }
   ],
   "source": [
    "run_dir.tracks['geometry'][94]"
   ]
  },
  {
   "cell_type": "code",
   "execution_count": 9,
   "id": "529e8bb0-da26-4bc6-9ede-b331823cb577",
   "metadata": {
    "tags": []
   },
   "outputs": [
    {
     "data": {
      "text/plain": [
       "<Axes: >"
      ]
     },
     "execution_count": 9,
     "metadata": {},
     "output_type": "execute_result"
    },
    {
     "data": {
      "image/png": "[encoded data removed]",
      "text/plain": [
       "<Figure size 640x480 with 1 Axes>"
      ]
     },
     "metadata": {},
     "output_type": "display_data"
    }
   ],
   "source": [
    "run_dir.tracks['geometry'][94].plot()"
   ]
  },
  {
   "cell_type": "code",
   "execution_count": null,
   "id": "57b67fb3-d597-4053-8ef5-82217a41b606",
   "metadata": {},
   "outputs": [],
   "source": []
  }
 ],
 "metadata": {
  "kernelspec": {
   "display_name": "analysis3-23.04",
   "language": "python",
   "name": "python3"
  },
  "language_info": {
   "codemirror_mode": {
    "name": "ipython",
    "version": 3
   },
   "file_extension": ".py",
   "mimetype": "text/x-python",
   "name": "python",
   "nbconvert_exporter": "python",
   "pygments_lexer": "ipython3",
   "version": "3.9.16"
  }
 },
 "nbformat": 4,
 "nbformat_minor": 5
}
